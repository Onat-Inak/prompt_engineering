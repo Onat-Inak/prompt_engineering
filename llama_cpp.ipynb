{
 "cells": [
  {
   "cell_type": "code",
   "execution_count": 1,
   "metadata": {},
   "outputs": [
    {
     "data": {
      "text/plain": [
       "'0.2.82'"
      ]
     },
     "execution_count": 1,
     "metadata": {},
     "output_type": "execute_result"
    }
   ],
   "source": [
    "import llama_cpp\n",
    "llama_cpp.__version__"
   ]
  },
  {
   "cell_type": "code",
   "execution_count": 6,
   "metadata": {},
   "outputs": [
    {
     "data": {
      "text/plain": [
       "<llama_cpp.llama.Llama at 0x7fb244297ad0>"
      ]
     },
     "execution_count": 6,
     "metadata": {},
     "output_type": "execute_result"
    }
   ],
   "source": [
    "from llama_cpp import Llama\n",
    "# llm = Llama(model_path='./models/Meta-Llama-3-8B-Instruct.Q4_K_M.gguf', verbose=False, temperature=0.0)\n",
    "llm = Llama(model_path='./models/Meta-Llama-3-8B-Instruct.Q4_K_M.gguf', n_gpu_layers=2, verbose=False)\n",
    "\n",
    "llm"
   ]
  },
  {
   "cell_type": "code",
   "execution_count": 7,
   "metadata": {},
   "outputs": [
    {
     "name": "stdout",
     "output_type": "stream",
     "text": [
      "Response 1:  1) Quantum mechanics is a branch of physics that deals with the behavior of matter and energy at the smallest scales, such as atoms and subatomic particles.\n",
      "Response 2:  1. Paris\n"
     ]
    }
   ],
   "source": [
    "response1 = llm(\"Q: Explain quantum mechanics. A: \", max_tokens=256, stop=[\"Q:\", \"\\n\"])\n",
    "response2 = llm(\"Q: What is the capital of France? A: \", max_tokens=256, stop=[\"Q:\", \"\\n\"])\n",
    "\n",
    "print(\"Response 1: \", response1[\"choices\"][0][\"text\"])\n",
    "print(\"Response 2: \", response2[\"choices\"][0][\"text\"])"
   ]
  },
  {
   "cell_type": "markdown",
   "metadata": {},
   "source": [
    "STREAMING RESPONSE"
   ]
  },
  {
   "cell_type": "code",
   "execution_count": 8,
   "metadata": {},
   "outputs": [],
   "source": [
    "generator = llm(\"Q: Explain quantum mechanics. A: \",\n",
    "           max_tokens=256,\n",
    "           stop=[\"Q:\", \"\\n\"],\n",
    "           stream=True)"
   ]
  },
  {
   "cell_type": "code",
   "execution_count": 9,
   "metadata": {},
   "outputs": [
    {
     "name": "stdout",
     "output_type": "stream",
     "text": [
      "1/2 the answer"
     ]
    }
   ],
   "source": [
    "for r in generator:\n",
    "    print(r[\"choices\"][0][\"text\"], end=\"\")"
   ]
  },
  {
   "cell_type": "code",
   "execution_count": null,
   "metadata": {},
   "outputs": [],
   "source": []
  },
  {
   "cell_type": "code",
   "execution_count": null,
   "metadata": {},
   "outputs": [],
   "source": []
  }
 ],
 "metadata": {
  "kernelspec": {
   "display_name": "RAG",
   "language": "python",
   "name": "python3"
  },
  "language_info": {
   "codemirror_mode": {
    "name": "ipython",
    "version": 3
   },
   "file_extension": ".py",
   "mimetype": "text/x-python",
   "name": "python",
   "nbconvert_exporter": "python",
   "pygments_lexer": "ipython3",
   "version": "3.11.9"
  }
 },
 "nbformat": 4,
 "nbformat_minor": 2
}
